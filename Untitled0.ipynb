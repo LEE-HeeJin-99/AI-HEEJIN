{
  "nbformat": 4,
  "nbformat_minor": 0,
  "metadata": {
    "colab": {
      "name": "Untitled0.ipynb",
      "provenance": [],
      "toc_visible": true,
      "authorship_tag": "ABX9TyPMKqZjL4lKxQJ43S+txiip",
      "include_colab_link": true
    },
    "kernelspec": {
      "name": "python3",
      "display_name": "Python 3"
    }
  },
  "cells": [
    {
      "cell_type": "markdown",
      "metadata": {
        "id": "view-in-github",
        "colab_type": "text"
      },
      "source": [
        "<a href=\"https://colab.research.google.com/github/LEE-HeeJin-99/AI-HEEJIN/blob/master/Untitled0.ipynb\" target=\"_parent\"><img src=\"https://colab.research.google.com/assets/colab-badge.svg\" alt=\"Open In Colab\"/></a>"
      ]
    },
    {
      "cell_type": "code",
      "metadata": {
        "id": "2xKslf4sy2NG",
        "colab_type": "code",
        "colab": {}
      },
      "source": [
        ""
      ],
      "execution_count": 0,
      "outputs": []
    },
    {
      "cell_type": "markdown",
      "metadata": {
        "id": "xOZ2XTer1IEp",
        "colab_type": "text"
      },
      "source": [
        "##인공지능 제품 및 서비스\n",
        "\n",
        "1. **언어** 분야\n",
        "\n",
        "  파파고\n",
        "\n",
        "  네이버가 2016년 8월 8일 애플리케이션으로 선보인 인공지능 기반 번역기로 자체 개발한 인공신경망을 이용해 13개의 언어를 최고 수준으로 번역한다.\n",
        "\n",
        "\n",
        "\n",
        "2. **음성** 분야\n",
        "\n",
        "  구글홈(Google 사의 인공지능 스피커 제품)의 구글 듀플렉스(Duplex)\n",
        "  \n",
        "  2018년 5월 개최된 '구글 I/O 컨퍼런스'에서 선보인 대화형 인공지능이다. 자연스러운 언어의 이해, 딥 러닝, 문자에서 음성으로의 변환 등의 기술을 발전시켜 문맥상 의미, 뉘앙스, 기다림, 상호작용까지 사람처럼 커뮤니케이션을 할 수 있다.\n",
        "\n",
        "\n",
        "\n",
        "3. **이미지** 분야\n",
        "\n",
        "    구글 렌즈\n",
        "    \n",
        "    Google 사에서 증강현실과 인공지능을 접목하여 개발한 서비스로 휴대폰 카메라로 사물을 포커스하면 구글의 데이터를 이용해 피사체에 대한 정보를 알려주는 기능이다. 구글의 저장된 인공지능이 카메라로 받아들인 이미지를 인식하고 관련된 다양한 정보를 알려주고 번역을 해주기도 한다. \n",
        "\n",
        "\n",
        "\n",
        "4. **자율주행** 분야\n",
        "\n",
        "    스마트 크루즈 컨트롤 SCC-ML\n",
        "\n",
        "    현대 자동차와 기아자동차가 세계 최초로 개발한 운전자 개개인에 맞는 자율주행 구현 기술이다. 운전자의 주행성향을 차가 스스로 학습해 앞차와의 거리, 가속성 등 운전자와 거의 흡사한 패턴으로 자율주행을 해준다. 전방카메라, 레이더 등의 센서사 다양한 운전상황에서 발생되는 정보를 지속적으로 수집해 ADAS의 두뇌인 제어컴퓨터로 보내고, 제어 컴퓨터는 입력된 정보로부터 운전자의 주행습관을 추출해 종합적인 주행성향을 파악하는데 머신러닝 알고리즘이 적용된다.\n",
        "\n",
        "  "
      ]
    }
  ]
}